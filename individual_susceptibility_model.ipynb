{
 "cells": [
  {
   "cell_type": "code",
   "execution_count": null,
   "metadata": {},
   "outputs": [],
   "source": [
    "import numpy as np\n",
    "import matplotlib.pyplot as plt\n",
    "\n",
    "from covidboosters import PeriodicIndividualSusceptibilityModel\n",
    "from scripts.default_parameters import DEFAULT_PARAMETERS"
   ]
  },
  {
   "cell_type": "code",
   "execution_count": null,
   "metadata": {},
   "outputs": [],
   "source": [
    "period = DEFAULT_PARAMETERS[\"period\"]\n",
    "antibody_model_params = DEFAULT_PARAMETERS[\"antibody_model_params_pop\"]\n",
    "susceptibility_func_params = DEFAULT_PARAMETERS[\"susceptibility_func_params\"]\n",
    "vaccination_times = 0"
   ]
  },
  {
   "cell_type": "code",
   "execution_count": null,
   "metadata": {},
   "outputs": [],
   "source": [
    "individual_susceptibility_model = PeriodicIndividualSusceptibilityModel(\n",
    "    antibody_model_params=antibody_model_params,\n",
    "    susceptibility_func_params=susceptibility_func_params,\n",
    "    vaccination_times=vaccination_times,\n",
    "    period=period,\n",
    ")"
   ]
  },
  {
   "cell_type": "code",
   "execution_count": null,
   "metadata": {},
   "outputs": [],
   "source": [
    "time_vec = np.arange(720)\n",
    "antibody_vec = individual_susceptibility_model.antibodies(time_vec)\n",
    "plt.plot(time_vec, antibody_vec)\n",
    "# plt.xlim(160, 200)"
   ]
  },
  {
   "cell_type": "code",
   "execution_count": null,
   "metadata": {},
   "outputs": [],
   "source": [
    "susceptibility_vec = individual_susceptibility_model.susceptibility(time_vec)\n",
    "plt.plot(time_vec, susceptibility_vec)\n",
    "plt.ylim(0, 1)"
   ]
  }
 ],
 "metadata": {
  "kernelspec": {
   "display_name": "climepi",
   "language": "python",
   "name": "python3"
  },
  "language_info": {
   "codemirror_mode": {
    "name": "ipython",
    "version": 3
   },
   "file_extension": ".py",
   "mimetype": "text/x-python",
   "name": "python",
   "nbconvert_exporter": "python",
   "pygments_lexer": "ipython3",
   "version": "3.12.2"
  }
 },
 "nbformat": 4,
 "nbformat_minor": 2
}
