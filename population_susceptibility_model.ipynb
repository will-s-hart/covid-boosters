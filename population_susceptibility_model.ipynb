{
 "cells": [
  {
   "cell_type": "code",
   "execution_count": null,
   "metadata": {},
   "outputs": [],
   "source": [
    "import numpy as np\n",
    "import matplotlib.pyplot as plt\n",
    "\n",
    "from covidboosters import (\n",
    "    HomogeneousPopulationSusceptibilityModel,\n",
    "    HeterogeneousPopulationSusceptibilityModel,\n",
    ")\n",
    "from scripts.default_parameters import DEFAULT_PARAMETERS"
   ]
  },
  {
   "cell_type": "code",
   "execution_count": null,
   "metadata": {},
   "outputs": [],
   "source": [
    "rng_seed = 0"
   ]
  },
  {
   "cell_type": "code",
   "execution_count": null,
   "metadata": {},
   "outputs": [],
   "source": [
    "period = DEFAULT_PARAMETERS[\"period\"]\n",
    "vaccination_time_range = DEFAULT_PARAMETERS[\"vaccination_time_range\"]\n",
    "proportion_vaccinated = DEFAULT_PARAMETERS[\"proportion_vaccinated\"]\n",
    "population_size = DEFAULT_PARAMETERS[\"population_size\"]\n",
    "antibody_model_params_pop = DEFAULT_PARAMETERS[\"antibody_model_params_pop\"]\n",
    "antibody_model_params_random_effects = DEFAULT_PARAMETERS[\n",
    "    \"antibody_model_params_random_effects\"\n",
    "]\n",
    "susceptibility_func_params = DEFAULT_PARAMETERS[\"susceptibility_func_params\"]"
   ]
  },
  {
   "cell_type": "code",
   "execution_count": null,
   "metadata": {},
   "outputs": [],
   "source": [
    "susceptibility_model_homog = HomogeneousPopulationSusceptibilityModel(\n",
    "    vaccination_time_range=vaccination_time_range,\n",
    "    proportion_vaccinated=proportion_vaccinated,\n",
    "    period=period,\n",
    "    antibody_model_params=antibody_model_params_pop,\n",
    "    susceptibility_func_params=susceptibility_func_params,\n",
    ")"
   ]
  },
  {
   "cell_type": "code",
   "execution_count": null,
   "metadata": {},
   "outputs": [],
   "source": [
    "susceptibility_model = HeterogeneousPopulationSusceptibilityModel(\n",
    "    vaccination_time_range=vaccination_time_range,\n",
    "    proportion_vaccinated=proportion_vaccinated,\n",
    "    period=period,\n",
    "    antibody_model_params_pop=antibody_model_params_pop,\n",
    "    antibody_model_params_random_effects=antibody_model_params_random_effects,\n",
    "    susceptibility_func_params=susceptibility_func_params,\n",
    "    population_size=population_size,\n",
    "    rng_seed=rng_seed,\n",
    ")"
   ]
  },
  {
   "cell_type": "code",
   "execution_count": null,
   "metadata": {},
   "outputs": [],
   "source": [
    "time_vec = np.arange(720)\n",
    "susceptibility_vec = susceptibility_model.susceptibility(time_vec)\n",
    "susceptibility_vec_homog = susceptibility_model_homog.susceptibility(time_vec)"
   ]
  },
  {
   "cell_type": "code",
   "execution_count": null,
   "metadata": {},
   "outputs": [],
   "source": [
    "plt.plot(time_vec, susceptibility_vec, label=\"Heterogeneous population\")\n",
    "plt.plot(time_vec, susceptibility_vec_homog, label=\"Homogeneous population\")\n",
    "plt.legend()\n",
    "plt.ylim(0, 1)"
   ]
  }
 ],
 "metadata": {
  "kernelspec": {
   "display_name": "climepi",
   "language": "python",
   "name": "python3"
  },
  "language_info": {
   "codemirror_mode": {
    "name": "ipython",
    "version": 3
   },
   "file_extension": ".py",
   "mimetype": "text/x-python",
   "name": "python",
   "nbconvert_exporter": "python",
   "pygments_lexer": "ipython3",
   "version": "3.12.2"
  }
 },
 "nbformat": 4,
 "nbformat_minor": 2
}
