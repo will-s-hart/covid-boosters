{
 "cells": [
  {
   "cell_type": "code",
   "execution_count": null,
   "metadata": {},
   "outputs": [],
   "source": [
    "import numpy as np\n",
    "import matplotlib.pyplot as plt\n",
    "\n",
    "from covidboosters import OutbreakRiskModel\n",
    "from scripts.default_parameters import DEFAULT_PARAMETERS"
   ]
  },
  {
   "cell_type": "code",
   "execution_count": null,
   "metadata": {},
   "outputs": [],
   "source": [
    "rng = np.random.default_rng(0)"
   ]
  },
  {
   "cell_type": "code",
   "execution_count": null,
   "metadata": {},
   "outputs": [],
   "source": [
    "period = DEFAULT_PARAMETERS[\"period\"]\n",
    "unvaccinated_reproduction_no_mean = DEFAULT_PARAMETERS[\n",
    "    \"unvaccinated_reproduction_no_mean\"\n",
    "]\n",
    "unvaccinated_reproduction_no_prop_variation = DEFAULT_PARAMETERS[\n",
    "    \"unvaccinated_reproduction_no_prop_variation\"\n",
    "]\n",
    "peak_transmission_time = DEFAULT_PARAMETERS[\"peak_transmission_time\"]\n",
    "dispersion_param = DEFAULT_PARAMETERS[\"dispersion_param\"]\n",
    "generation_time_dist = DEFAULT_PARAMETERS[\"generation_time_dist\"]"
   ]
  },
  {
   "cell_type": "code",
   "execution_count": null,
   "metadata": {},
   "outputs": [],
   "source": [
    "vaccination_time_range = DEFAULT_PARAMETERS[\"vaccination_time_range\"]\n",
    "proportion_vaccinated = DEFAULT_PARAMETERS[\"proportion_vaccinated\"]\n",
    "population_size = DEFAULT_PARAMETERS[\"population_size\"]\n",
    "antibody_model_params_pop = DEFAULT_PARAMETERS[\"antibody_model_params_pop\"]\n",
    "antibody_model_params_random_effects = DEFAULT_PARAMETERS[\n",
    "    \"antibody_model_params_random_effects\"\n",
    "]\n",
    "susceptibility_func_params = DEFAULT_PARAMETERS[\"susceptibility_func_params\"]"
   ]
  },
  {
   "cell_type": "code",
   "execution_count": null,
   "metadata": {},
   "outputs": [],
   "source": [
    "model = OutbreakRiskModel(\n",
    "    period=period,\n",
    "    unvaccinated_reproduction_no_mean=unvaccinated_reproduction_no_mean,\n",
    "    unvaccinated_reproduction_no_prop_variation=unvaccinated_reproduction_no_prop_variation,\n",
    "    peak_transmission_time=peak_transmission_time,\n",
    "    generation_time_dist=generation_time_dist,\n",
    "    dispersion_param=dispersion_param,\n",
    "    vaccination_time_range=vaccination_time_range,\n",
    "    proportion_vaccinated=proportion_vaccinated,\n",
    "    antibody_model_params_pop=antibody_model_params_pop,\n",
    "    antibody_model_params_random_effects=antibody_model_params_random_effects,\n",
    "    susceptibility_func_params=susceptibility_func_params,\n",
    "    population_size=population_size,\n",
    "    rng=rng,\n",
    ")"
   ]
  },
  {
   "cell_type": "code",
   "execution_count": null,
   "metadata": {},
   "outputs": [],
   "source": [
    "time_vec = np.arange(2 * period)\n",
    "unvaccinated_reproduction_no_vec = model.unvaccinated_reproduction_no(time_vec)\n",
    "reproduction_no_vec = model.reproduction_no(time_vec)\n",
    "susceptibility_vec = model.susceptibility(time_vec)"
   ]
  },
  {
   "cell_type": "code",
   "execution_count": null,
   "metadata": {},
   "outputs": [],
   "source": [
    "plt.plot(time_vec, unvaccinated_reproduction_no_vec, label=\"R_0(t)\")\n",
    "plt.plot(time_vec, reproduction_no_vec, label=\"R(t)\")\n",
    "plt.plot(time_vec, susceptibility_vec, label=\"Susceptibility\")\n",
    "plt.legend()"
   ]
  },
  {
   "cell_type": "code",
   "execution_count": null,
   "metadata": {},
   "outputs": [],
   "source": [
    "cor_vec = model.case_outbreak_risk(time_vec)\n",
    "ior_vec = model.instantaneous_outbreak_risk(time_vec)"
   ]
  },
  {
   "cell_type": "code",
   "execution_count": null,
   "metadata": {},
   "outputs": [],
   "source": [
    "time_vec_sim = np.arange(2 * period + 1, step=30)\n",
    "sor_vec = model.simulated_outbreak_risk(\n",
    "    time_vec_sim, incidence_cutoff=100, no_simulations=1000, rng=rng\n",
    ")"
   ]
  },
  {
   "cell_type": "code",
   "execution_count": null,
   "metadata": {},
   "outputs": [],
   "source": [
    "plt.plot(time_vec, cor_vec, label=\"Case outbreak risk\")\n",
    "plt.plot(time_vec_sim, sor_vec, \"x\", label=\"Simulated outbreak risk\")\n",
    "plt.plot(time_vec, ior_vec, label=\"Instantaneous outbreak risk\")\n",
    "plt.legend()\n",
    "plt.ylim(0, 1)"
   ]
  }
 ],
 "metadata": {
  "kernelspec": {
   "display_name": "climepi",
   "language": "python",
   "name": "python3"
  },
  "language_info": {
   "codemirror_mode": {
    "name": "ipython",
    "version": 3
   },
   "file_extension": ".py",
   "mimetype": "text/x-python",
   "name": "python",
   "nbconvert_exporter": "python",
   "pygments_lexer": "ipython3",
   "version": "3.12.2"
  }
 },
 "nbformat": 4,
 "nbformat_minor": 2
}
