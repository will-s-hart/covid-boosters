{
 "cells": [
  {
   "cell_type": "code",
   "execution_count": null,
   "metadata": {},
   "outputs": [],
   "source": [
    "import numpy as np\n",
    "import matplotlib.pyplot as plt\n",
    "\n",
    "from covidboosters import PeriodicHeterogeneousRenewalModel\n",
    "from scripts.default_parameters import DEFAULT_PARAMETERS"
   ]
  },
  {
   "cell_type": "code",
   "execution_count": null,
   "metadata": {},
   "outputs": [],
   "source": [
    "rng = np.random.default_rng(0)"
   ]
  },
  {
   "cell_type": "code",
   "execution_count": null,
   "metadata": {},
   "outputs": [],
   "source": [
    "period = DEFAULT_PARAMETERS[\"period\"]\n",
    "reproduction_no_mean = DEFAULT_PARAMETERS[\"unvaccinated_reproduction_no_mean\"]\n",
    "reproduction_no_prop_variation = DEFAULT_PARAMETERS[\n",
    "    \"unvaccinated_reproduction_no_prop_variation\"\n",
    "]\n",
    "\n",
    "peak_transmission_time = DEFAULT_PARAMETERS[\"peak_transmission_time\"]\n",
    "dispersion_param = DEFAULT_PARAMETERS[\"dispersion_param\"]\n",
    "generation_time_dist = DEFAULT_PARAMETERS[\"generation_time_dist\"]"
   ]
  },
  {
   "cell_type": "code",
   "execution_count": null,
   "metadata": {},
   "outputs": [],
   "source": [
    "time_vec = np.arange(period)\n",
    "reproduction_no_vec = reproduction_no_mean * (\n",
    "    1\n",
    "    + reproduction_no_prop_variation\n",
    "    * np.cos(2 * np.pi * (time_vec - peak_transmission_time) / period)\n",
    ")"
   ]
  },
  {
   "cell_type": "code",
   "execution_count": null,
   "metadata": {},
   "outputs": [],
   "source": [
    "model = PeriodicHeterogeneousRenewalModel(\n",
    "    time_vec=time_vec,\n",
    "    reproduction_no_vec=reproduction_no_vec,\n",
    "    generation_time_dist=generation_time_dist,\n",
    "    dispersion_param=dispersion_param,\n",
    ")"
   ]
  },
  {
   "cell_type": "code",
   "execution_count": null,
   "metadata": {},
   "outputs": [],
   "source": [
    "output = model.simulate(time_start=200, rng=rng)\n",
    "plt.bar(output[\"time_vec\"], output[\"incidence_vec\"])"
   ]
  },
  {
   "cell_type": "code",
   "execution_count": null,
   "metadata": {},
   "outputs": [],
   "source": [
    "time_vec = np.arange(2 * period)\n",
    "cor_vec = model.case_outbreak_risk(time_vec)"
   ]
  },
  {
   "cell_type": "code",
   "execution_count": null,
   "metadata": {},
   "outputs": [],
   "source": [
    "ior_vec = model.instantaneous_outbreak_risk(time_vec)"
   ]
  },
  {
   "cell_type": "code",
   "execution_count": null,
   "metadata": {},
   "outputs": [],
   "source": [
    "time_vec_sim = np.arange(2 * period, step=30)\n",
    "sor_vec = model.simulated_outbreak_risk(\n",
    "    time_vec_sim, incidence_cutoff=10, no_simulations=1000, rng=rng\n",
    ")"
   ]
  },
  {
   "cell_type": "code",
   "execution_count": null,
   "metadata": {},
   "outputs": [],
   "source": [
    "plt.plot(time_vec, cor_vec)\n",
    "plt.plot(time_vec_sim, sor_vec, \"x\")\n",
    "plt.plot(time_vec, ior_vec)\n",
    "plt.legend(\n",
    "    [\"Case outbreak risk\", \"Simulated outbreak risk\", \"Instantaneous outbreak risk\"]\n",
    ")\n",
    "plt.ylim(0, 1)"
   ]
  }
 ],
 "metadata": {
  "kernelspec": {
   "display_name": "climepi",
   "language": "python",
   "name": "python3"
  },
  "language_info": {
   "codemirror_mode": {
    "name": "ipython",
    "version": 3
   },
   "file_extension": ".py",
   "mimetype": "text/x-python",
   "name": "python",
   "nbconvert_exporter": "python",
   "pygments_lexer": "ipython3",
   "version": "3.12.2"
  }
 },
 "nbformat": 4,
 "nbformat_minor": 2
}
