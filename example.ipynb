{
 "cells": [
  {
   "cell_type": "code",
   "execution_count": null,
   "metadata": {},
   "outputs": [],
   "source": [
    "import numpy as np\n",
    "import matplotlib.pyplot as plt\n",
    "from scipy.stats import rv_discrete, gamma\n",
    "\n",
    "from base import PeriodicHeterogeneousRenewalModel"
   ]
  },
  {
   "cell_type": "code",
   "execution_count": null,
   "metadata": {},
   "outputs": [],
   "source": [
    "period = 365\n",
    "time_vec = np.arange(period)\n",
    "# reproduction_no_vec = 2 + np.cos(2 * np.pi * (time_vec - 30) / period)\n",
    "reproduction_no_vec = (10 + 5 * np.cos(2 * np.pi * (time_vec - 30) / period)) / 4.9\n",
    "\n",
    "# generation_time_max = 20\n",
    "generation_time_max = 30\n",
    "generation_time_vals = np.arange(1, generation_time_max + 1)\n",
    "# generation_time_probs = gamma.pdf(generation_time_vals, a=3, scale=5 / 3)\n",
    "generation_time_probs = gamma.pdf(generation_time_vals, a=1, scale=30 / (4.9 * 2))\n",
    "generation_time_probs /= generation_time_probs.sum()\n",
    "generation_time_dist = rv_discrete(values=(generation_time_vals, generation_time_probs))\n",
    "\n",
    "# dispersion_param = 0.41\n",
    "dispersion_param = 1"
   ]
  },
  {
   "cell_type": "code",
   "execution_count": null,
   "metadata": {},
   "outputs": [],
   "source": [
    "model = PeriodicHeterogeneousRenewalModel(\n",
    "    time_vec=time_vec,\n",
    "    reproduction_no_vec=reproduction_no_vec,\n",
    "    generation_time_dist=generation_time_dist,\n",
    "    dispersion_param=dispersion_param,\n",
    ")"
   ]
  },
  {
   "cell_type": "code",
   "execution_count": null,
   "metadata": {},
   "outputs": [],
   "source": [
    "output = model.simulate(time_start=5)\n",
    "plt.bar(output[\"time_vec\"], output[\"incidence_vec\"])"
   ]
  },
  {
   "cell_type": "code",
   "execution_count": null,
   "metadata": {},
   "outputs": [],
   "source": [
    "time_vec = np.arange(period)\n",
    "cor_vec = model.case_outbreak_risk(time_vec, maxiter=100)"
   ]
  },
  {
   "cell_type": "code",
   "execution_count": null,
   "metadata": {},
   "outputs": [],
   "source": [
    "ior_vec = model.instantaneous_outbreak_risk(time_vec)"
   ]
  },
  {
   "cell_type": "code",
   "execution_count": null,
   "metadata": {},
   "outputs": [],
   "source": [
    "time_vec_sim = np.arange(period, step=10)\n",
    "sor_vec = model.simulated_outbreak_risk(\n",
    "    time_vec_sim, incidence_cutoff=10, no_simulations=500\n",
    ")"
   ]
  },
  {
   "cell_type": "code",
   "execution_count": null,
   "metadata": {},
   "outputs": [],
   "source": [
    "plt.plot(time_vec, cor_vec)\n",
    "plt.plot(time_vec_sim, sor_vec, \"x\")\n",
    "plt.plot(time_vec, ior_vec)\n",
    "plt.legend(\n",
    "    [\"Case outbreak risk\", \"Simulated outbreak risk\", \"Instantaneous outbreak risk\"]\n",
    ")\n",
    "plt.ylim(0, 1)"
   ]
  },
  {
   "cell_type": "code",
   "execution_count": null,
   "metadata": {},
   "outputs": [],
   "source": [
    "plt.plot(\n",
    "    np.concatenate((time_vec, time_vec + period)), np.concatenate((cor_vec, cor_vec))\n",
    ")\n",
    "plt.plot(\n",
    "    np.concatenate((time_vec_sim, time_vec_sim + period)),\n",
    "    np.concatenate((sor_vec, sor_vec)),\n",
    "    \"x\",\n",
    ")\n",
    "plt.plot(\n",
    "    np.concatenate((time_vec, time_vec + period)), np.concatenate((ior_vec, ior_vec))\n",
    ")\n",
    "plt.legend(\n",
    "    [\"Case outbreak risk\", \"Simulated outbreak risk\", \"Instantaneous outbreak risk\"]\n",
    ")\n",
    "plt.ylim(0, 1)"
   ]
  }
 ],
 "metadata": {
  "kernelspec": {
   "display_name": "climepi",
   "language": "python",
   "name": "python3"
  },
  "language_info": {
   "codemirror_mode": {
    "name": "ipython",
    "version": 3
   },
   "file_extension": ".py",
   "mimetype": "text/x-python",
   "name": "python",
   "nbconvert_exporter": "python",
   "pygments_lexer": "ipython3",
   "version": "3.12.2"
  }
 },
 "nbformat": 4,
 "nbformat_minor": 2
}
