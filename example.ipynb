{
 "cells": [
  {
   "cell_type": "code",
   "execution_count": null,
   "metadata": {},
   "outputs": [],
   "source": [
    "import numpy as np\n",
    "import matplotlib.pyplot as plt\n",
    "from scipy.stats import rv_discrete, gamma\n",
    "\n",
    "from base import HeterogeneousRenewalModel"
   ]
  },
  {
   "cell_type": "code",
   "execution_count": null,
   "metadata": {},
   "outputs": [],
   "source": [
    "def reproduction_no_func(time):\n",
    "    return 2.0\n",
    "\n",
    "\n",
    "generation_time_max = 20\n",
    "generation_time_vals = np.arange(1, generation_time_max + 1)\n",
    "generation_time_probs = gamma.pdf(generation_time_vals, a=2, scale=5 / 2)\n",
    "generation_time_probs /= generation_time_probs.sum()\n",
    "generation_time_dist = rv_discrete(values=(generation_time_vals, generation_time_probs))\n",
    "\n",
    "dispersion_param = 1.0"
   ]
  },
  {
   "cell_type": "code",
   "execution_count": null,
   "metadata": {},
   "outputs": [],
   "source": [
    "model = HeterogeneousRenewalModel(\n",
    "    reproduction_no_func=reproduction_no_func,\n",
    "    generation_time_dist=generation_time_dist,\n",
    "    dispersion_param=dispersion_param,\n",
    ")"
   ]
  },
  {
   "cell_type": "code",
   "execution_count": null,
   "metadata": {},
   "outputs": [],
   "source": [
    "output = model.simulate(time_start=5)\n",
    "output"
   ]
  }
 ],
 "metadata": {
  "kernelspec": {
   "display_name": "climepi",
   "language": "python",
   "name": "python3"
  },
  "language_info": {
   "codemirror_mode": {
    "name": "ipython",
    "version": 3
   },
   "file_extension": ".py",
   "mimetype": "text/x-python",
   "name": "python",
   "nbconvert_exporter": "python",
   "pygments_lexer": "ipython3",
   "version": "3.12.2"
  }
 },
 "nbformat": 4,
 "nbformat_minor": 2
}
